{
 "cells": [
  {
   "cell_type": "code",
   "execution_count": 1,
   "metadata": {
    "collapsed": false
   },
   "outputs": [],
   "source": [
    "import os\n",
    "import subprocess\n",
    "import multiprocessing\n",
    "import itertools\n",
    "import pandas as pd\n",
    "\n",
    "path= 'images'\n",
    "languages = ['c', 'asm1', 'asm2']\n",
    "filters = ['hsl', 'blur', 'merge']\n",
    "command = {\n",
    "    'blur': './runTests {language} {filter} \"{src}\" \"{dst}\"',\n",
    "    'merge': './runTests {language} {filter} \"{src}\" \"{src2}\" \"{dst}\" {alpha}',\n",
    "    'hsl': './runTests {language} {filter} \"{src}\" \"{dst}\" {h} {s} {l}'\n",
    "}\n",
    "\n",
    "hhssll = [(0.0, 0.0, 0.0), (99.0, 0.0, 0.0)]\n",
    "alpha = [0.0, 0.14674845465465456489765465478976546548]\n",
    "manager = multiprocessing.Manager()\n",
    "dataset = manager.list([])\n",
    "\n",
    "def worker(filt, lang):\n",
    "    output = []\n",
    "    rpath = os.path.join(path, filt)\n",
    "\n",
    "    for img in os.listdir(rpath):\n",
    "        rimg = os.path.join(rpath, img)\n",
    "\n",
    "        if os.path.isfile(rimg):\n",
    "            \n",
    "            if filt == 'hsl':\n",
    "                for (h, s, l) in hhssll:\n",
    "                    comm = command[filt].format(\n",
    "                            language = lang,\n",
    "                            filter = filt,\n",
    "                            src = rimg,\n",
    "                            dst = './current.bmp',\n",
    "                            h = h,\n",
    "                            s = s,\n",
    "                            l = l\n",
    "                        )\n",
    "\n",
    "                    delta = subprocess.check_output(comm, shell=True)\n",
    "                    delta = delta.strip()\n",
    "\n",
    "                    output.append({\n",
    "                        'filename': img,\n",
    "                        'language': lang,\n",
    "                        'filter': filt,\n",
    "                        'delta': delta,\n",
    "                        'h': h,\n",
    "                        's': s,\n",
    "                        'l': l\n",
    "                    })\n",
    "            elif filt == 'blur':\n",
    "                comm = command[filt].format(\n",
    "                        language = lang,\n",
    "                        filter = filt,\n",
    "                        src = rimg,\n",
    "                        dst = './current.bmp'\n",
    "                    )\n",
    "\n",
    "                delta = subprocess.check_output(comm, shell=True)\n",
    "                delta = delta.strip()\n",
    "\n",
    "                output.append({\n",
    "                    'filename': img,\n",
    "                    'language': lang,\n",
    "                    'filter': filt,\n",
    "                    'delta': delta,\n",
    "                })\n",
    "            elif filt == 'merge':\n",
    "                for a in alpha:\n",
    "                    comm = command[filt].format(\n",
    "                            language = lang,\n",
    "                            filter = filt,\n",
    "                            src = rimg,\n",
    "                            src2 = rimg,\n",
    "                            dst = './current.bmp',\n",
    "                            alpha = a\n",
    "                        )\n",
    "\n",
    "                    delta = subprocess.check_output(comm, shell=True)\n",
    "                    delta = delta.strip()\n",
    "\n",
    "                    output.append({\n",
    "                        'filename': img,\n",
    "                        'language': lang,\n",
    "                        'filter': filt,\n",
    "                        'delta': delta,\n",
    "                        'alpha': a\n",
    "                    })\n",
    "                    \n",
    "    dataset.append(output)\n",
    "                    \n",
    "jobs = []\n",
    "for filt, lang in itertools.product(filters, languages):\n",
    "    p = multiprocessing.Process(target=worker, args=(filt, lang))\n",
    "    jobs.append(p)\n",
    "    p.start()\n",
    "\n",
    "for job in jobs:\n",
    "    job.join()"
   ]
  },
  {
   "cell_type": "code",
   "execution_count": 3,
   "metadata": {
    "collapsed": false
   },
   "outputs": [
    {
     "ename": "PandasError",
     "evalue": "DataFrame constructor not properly called!",
     "output_type": "error",
     "traceback": [
      "\u001b[1;31m---------------------------------------------------------------------------\u001b[0m",
      "\u001b[1;31mPandasError\u001b[0m                               Traceback (most recent call last)",
      "\u001b[1;32m<ipython-input-3-b452f28418b5>\u001b[0m in \u001b[0;36m<module>\u001b[1;34m()\u001b[0m\n\u001b[1;32m----> 1\u001b[1;33m \u001b[0mdata\u001b[0m \u001b[1;33m=\u001b[0m \u001b[0mpd\u001b[0m\u001b[1;33m.\u001b[0m\u001b[0mDataFrame\u001b[0m\u001b[1;33m(\u001b[0m\u001b[0mdataset\u001b[0m\u001b[1;33m)\u001b[0m\u001b[1;33m\u001b[0m\u001b[0m\n\u001b[0m",
      "\u001b[1;32m/home/julian/Software/anaconda/lib/python2.7/site-packages/pandas/core/frame.pyc\u001b[0m in \u001b[0;36m__init__\u001b[1;34m(self, data, index, columns, dtype, copy)\u001b[0m\n\u001b[0;32m    284\u001b[0m                                          copy=False)\n\u001b[0;32m    285\u001b[0m             \u001b[1;32melse\u001b[0m\u001b[1;33m:\u001b[0m\u001b[1;33m\u001b[0m\u001b[0m\n\u001b[1;32m--> 286\u001b[1;33m                 \u001b[1;32mraise\u001b[0m \u001b[0mPandasError\u001b[0m\u001b[1;33m(\u001b[0m\u001b[1;34m'DataFrame constructor not properly called!'\u001b[0m\u001b[1;33m)\u001b[0m\u001b[1;33m\u001b[0m\u001b[0m\n\u001b[0m\u001b[0;32m    287\u001b[0m \u001b[1;33m\u001b[0m\u001b[0m\n\u001b[0;32m    288\u001b[0m         \u001b[0mNDFrame\u001b[0m\u001b[1;33m.\u001b[0m\u001b[0m__init__\u001b[0m\u001b[1;33m(\u001b[0m\u001b[0mself\u001b[0m\u001b[1;33m,\u001b[0m \u001b[0mmgr\u001b[0m\u001b[1;33m,\u001b[0m \u001b[0mfastpath\u001b[0m\u001b[1;33m=\u001b[0m\u001b[0mTrue\u001b[0m\u001b[1;33m)\u001b[0m\u001b[1;33m\u001b[0m\u001b[0m\n",
      "\u001b[1;31mPandasError\u001b[0m: DataFrame constructor not properly called!"
     ]
    }
   ],
   "source": [
    "data = pd.DataFrame(dataset)"
   ]
  },
  {
   "cell_type": "code",
   "execution_count": 5,
   "metadata": {
    "collapsed": false
   },
   "outputs": [],
   "source": [
    "data = []\n",
    "\n",
    "for lst in dataset:\n",
    "    data += lst"
   ]
  },
  {
   "cell_type": "code",
   "execution_count": 7,
   "metadata": {
    "collapsed": false
   },
   "outputs": [],
   "source": [
    "dst = pd.DataFrame(data)"
   ]
  },
  {
   "cell_type": "code",
   "execution_count": 10,
   "metadata": {
    "collapsed": false
   },
   "outputs": [],
   "source": [
    "dst.set_index(['filter', 'language'])\n",
    "dst.to_csv('output.csv')"
   ]
  },
  {
   "cell_type": "code",
   "execution_count": null,
   "metadata": {
    "collapsed": true
   },
   "outputs": [],
   "source": []
  }
 ],
 "metadata": {
  "kernelspec": {
   "display_name": "Python 2",
   "language": "python",
   "name": "python2"
  },
  "language_info": {
   "codemirror_mode": {
    "name": "ipython",
    "version": 2
   },
   "file_extension": ".py",
   "mimetype": "text/x-python",
   "name": "python",
   "nbconvert_exporter": "python",
   "pygments_lexer": "ipython2",
   "version": "2.7.9"
  }
 },
 "nbformat": 4,
 "nbformat_minor": 0
}
